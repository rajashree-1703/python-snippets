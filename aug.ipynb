{
 "cells": [
  {
   "cell_type": "markdown",
   "id": "f4433d70",
   "metadata": {},
   "source": [
    "## 1.Convert a list of temperatures in Celsius to Fahrenheit using a list comprehension"
   ]
  },
  {
   "cell_type": "code",
   "execution_count": 3,
   "id": "77b97265",
   "metadata": {},
   "outputs": [
    {
     "name": "stdout",
     "output_type": "stream",
     "text": [
      "celsius_temps [0, 10, 15, 21, 30]\n",
      "fahrenheit_temps [32.0, 50.0, 59.0, 69.8, 86.0]\n"
     ]
    }
   ],
   "source": [
    "celsius_temps = [0, 10, 15, 21, 30]\n",
    "# Formula: Fahrenheit = Celsius * 9/5 + 32\n",
    "\n",
    "fahrenheit_temps = [celsius * 9/5 + 32 for celsius in celsius_temps]\n",
    "\n",
    "print(\"celsius_temps\", celsius_temps)\n",
    "print(\"fahrenheit_temps\", fahrenheit_temps)"
   ]
  },
  {
   "cell_type": "markdown",
   "id": "2c57fc34",
   "metadata": {},
   "source": [
    "## 2. Filter a dictionary to keep items with values above a certain threshold"
   ]
  },
  {
   "cell_type": "code",
   "execution_count": null,
   "id": "cd0719fd",
   "metadata": {},
   "outputs": [
    {
     "name": "stdout",
     "output_type": "stream",
     "text": [
      "Students who passed: {'Charlie', 'Alice'}\n"
     ]
    }
   ],
   "source": [
    "scores = {'Alice': 85, 'Bob': 72, 'Charlie': 90, 'Dave': 67}\n",
    "passing_score = 75\n",
    "\n",
    "passed = {name for name, score in scores.items() if score >= passing_score}\n",
    "\n",
    "print(\"Students who passed:\", passed)\n",
    "\n",
    "# What you learn:\n",
    "\n",
    "# Dictionary comprehensions\n",
    "\n",
    "# items() method\n",
    "\n",
    "# Conditional logic in comprehensions\n",
    "\n",
    "# How to filter data structures efficiently\n",
    "\n",
    "\n",
    "# How to filter data structures efficiently"
   ]
  },
  {
   "cell_type": "markdown",
   "id": "69c2450e",
   "metadata": {},
   "source": [
    "## 3. Using enumerate() for Indexed Looping"
   ]
  },
  {
   "cell_type": "code",
   "execution_count": null,
   "id": "ababbc71",
   "metadata": {},
   "outputs": [
    {
     "name": "stdout",
     "output_type": "stream",
     "text": [
      "{0: 'apple', 1: 'banana', 2: 'cherry', 3: 'orange', 4: 'grape'}\n"
     ]
    }
   ],
   "source": [
    "fruits = ['apple', 'banana', 'cherry', 'orange', 'grape']\n",
    "\n",
    "list =  {index: fruit for index, fruit in enumerate(fruits)}\n",
    "\n",
    "print(list)\n",
    "\n",
    "\n",
    "# Key Concepts Reinforced:\n",
    "\n",
    "# How to loop through a list AND know each element's position.\n",
    "\n",
    "# Cleaner, more Pythonic code compared to manually incrementing a counter.\n",
    "\n",
    "# Practical use cases: Displaying numbered lists, working with data that needs both index and value.\n",
    "\n",
    "# Extra Tip:\n",
    "# If you omit the start=1, it starts at 0 by default."
   ]
  },
  {
   "cell_type": "code",
   "execution_count": 7,
   "id": "c6d20a11",
   "metadata": {},
   "outputs": [
    {
     "name": "stdout",
     "output_type": "stream",
     "text": [
      "Names with index: {1: 'Rajashree', 2: 'Chandan', 3: 'Saanvi Rachan'}\n"
     ]
    }
   ],
   "source": [
    "names = ['Rajashree', 'Chandan', 'Saanvi Rachan']\n",
    "\n",
    "names_list_with_index = {index: name for index, name in enumerate(names, start=1)}\n",
    "\n",
    "print(\"Names with index:\", names_list_with_index)"
   ]
  }
 ],
 "metadata": {
  "kernelspec": {
   "display_name": "venv",
   "language": "python",
   "name": "python3"
  },
  "language_info": {
   "codemirror_mode": {
    "name": "ipython",
    "version": 3
   },
   "file_extension": ".py",
   "mimetype": "text/x-python",
   "name": "python",
   "nbconvert_exporter": "python",
   "pygments_lexer": "ipython3",
   "version": "3.13.3"
  }
 },
 "nbformat": 4,
 "nbformat_minor": 5
}
