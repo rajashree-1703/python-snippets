{
 "cells": [
  {
   "cell_type": "markdown",
   "id": "f7c8b80e",
   "metadata": {},
   "source": [
    "## Filtering and Transforming Lists with List Comprehensions"
   ]
  },
  {
   "cell_type": "code",
   "execution_count": null,
   "id": "6771acf2",
   "metadata": {},
   "outputs": [
    {
     "name": "stdout",
     "output_type": "stream",
     "text": [
      "[4, 16, 36, 64, 100]\n"
     ]
    }
   ],
   "source": [
    "# Given a list of numbers, create a new list of squared even numbers only\n",
    "\n",
    "numbers = [1, 2, 3, 4, 5, 6, 7, 8, 9, 10]\n",
    "\n",
    "# Using list comprehension:\n",
    "squared_evens = [x**2 for x in numbers if x % 2 == 0]\n",
    "\n",
    "print(squared_evens)  # Output: [4, 16, 36, 64, 100]\n",
    "\n",
    "# What’s happening?\n",
    "\n",
    "# for x in numbers iterates through each element.\n",
    "\n",
    "# if x % 2 == 0 filters only even numbers.\n",
    "\n",
    "# x**2 transforms (squares) the filtered numbers.\n",
    "\n",
    "# Why use it?\n",
    "# List comprehensions let you filter and transform lists elegantly in one line, improving the readability and efficiency of your code."
   ]
  },
  {
   "cell_type": "code",
   "execution_count": null,
   "id": "2366e85a",
   "metadata": {},
   "outputs": [],
   "source": [
    "# Try modifying:\n",
    "\n",
    "# Change the transformation (x**2) to another function, like getting cubes.\n",
    "\n",
    "# Try filtering for a different condition (e.g., numbers greater than 5)."
   ]
  },
  {
   "cell_type": "code",
   "execution_count": 5,
   "id": "b20299e5",
   "metadata": {},
   "outputs": [
    {
     "name": "stdout",
     "output_type": "stream",
     "text": [
      "[1, 27, 125, 343, 729]\n"
     ]
    }
   ],
   "source": [
    "numbers = [1,2,3,4,5,6,7,8,9,10]\n",
    "cube_evens = [x**3 for x in numbers if x%2 != 0]\n",
    "print(cube_evens)  # Output: [27, 216]"
   ]
  },
  {
   "cell_type": "markdown",
   "id": "28ef262c",
   "metadata": {},
   "source": [
    "## Understanding List Comprehensions and Filtering\n"
   ]
  },
  {
   "cell_type": "code",
   "execution_count": null,
   "id": "5dcbd1c0",
   "metadata": {},
   "outputs": [
    {
     "name": "stdout",
     "output_type": "stream",
     "text": [
      "[4, 16, 36, 64, 100]\n"
     ]
    }
   ],
   "source": [
    "# Create a list of squares for even numbers from 1 to 10\n",
    "\n",
    "squares_of_even = [x**2 for x in range(1, 11) if x%2==0]\n",
    "\n",
    "print(squares_of_even)\n",
    "\n",
    "\n",
    "# What’s happening?\n",
    "\n",
    "# range(1, 11): Generates numbers 1 to 10.\n",
    "\n",
    "# if x % 2 == 0: Filters to only even numbers.\n",
    "\n",
    "# x**2: Squares each even number.\n",
    "\n",
    "# The result is a concise list of the squares of the even numbers in that range.\n",
    "\n",
    "# Takeaway:\n",
    "# List comprehensions give you a powerful, compact way to generate or filter lists based on conditions—making your Python code both efficient and expressive!"
   ]
  },
  {
   "cell_type": "markdown",
   "id": "87af7f69",
   "metadata": {},
   "source": [
    "## Dictionary Comprehensions for Inverse Lookup"
   ]
  },
  {
   "cell_type": "code",
   "execution_count": null,
   "id": "81d5b99c",
   "metadata": {},
   "outputs": [
    {
     "name": "stdout",
     "output_type": "stream",
     "text": [
      "{'bob@example.com': 'Bob', 'carol@example.com': 'Carol'}\n"
     ]
    }
   ],
   "source": [
    "# Given a dictionary mapping names to emails:\n",
    "name_to_email = {\n",
    "    \"Alice\": \"alice@example.com\",\n",
    "    \"Bob\": \"bob@example.com\",\n",
    "    \"Carol\": \"carol@example.com\"\n",
    "}\n",
    "\n",
    "# Reverse the dictionary to map emails to names, using a dictionary comprehension:\n",
    "email_to_name = {email: name for name, email in name_to_email.items()}\n",
    "\n",
    "print(email_to_name)\n",
    "# Output: {'alice@example.com': 'Alice', 'bob@example.com': 'Bob', 'carol@example.com': 'Carol'}\n",
    "\n",
    "# Key Concepts:\n",
    "\n",
    "# Dictionary Comprehensions: A concise way to create dictionaries by iterating over another dictionary.\n",
    "\n",
    "# Inverse Lookup: Useful for reversing key-value pairs, which helps in tasks like looking up by value efficiently.\n",
    "\n",
    "# Try: What happens if two names have the same email address? How might you handle non-unique values?"
   ]
  },
  {
   "cell_type": "code",
   "execution_count": 19,
   "id": "fec6f122",
   "metadata": {},
   "outputs": [
    {
     "name": "stdout",
     "output_type": "stream",
     "text": [
      "{'alice@example.com': 'Bob', 'carol@example.com': 'Carol'}\n"
     ]
    }
   ],
   "source": [
    "name_to_email = {\n",
    "    \"Alice\": \"alice@example.com\",\n",
    "    \"Bob\": \"alice@example.com\",\n",
    "    \"Carol\": \"carol@example.com\"\n",
    "}\n",
    "\n",
    "email_to_name = {email: name for name, email in name_to_email.items()}\n",
    "\n",
    "print(email_to_name)"
   ]
  }
 ],
 "metadata": {
  "kernelspec": {
   "display_name": "venv",
   "language": "python",
   "name": "python3"
  },
  "language_info": {
   "codemirror_mode": {
    "name": "ipython",
    "version": 3
   },
   "file_extension": ".py",
   "mimetype": "text/x-python",
   "name": "python",
   "nbconvert_exporter": "python",
   "pygments_lexer": "ipython3",
   "version": "3.13.3"
  }
 },
 "nbformat": 4,
 "nbformat_minor": 5
}
